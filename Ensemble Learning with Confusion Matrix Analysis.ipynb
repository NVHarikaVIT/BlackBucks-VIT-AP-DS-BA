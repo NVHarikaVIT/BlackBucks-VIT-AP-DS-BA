{
 "cells": [
  {
   "cell_type": "code",
   "execution_count": 1,
   "id": "94eebc88-fec7-468d-9a5b-4cc74e30708c",
   "metadata": {},
   "outputs": [],
   "source": [
    "import numpy as np\n",
    "import pandas as pd\n",
    "import matplotlib.pyplot as plt\n",
    "import seaborn as sns\n",
    "%matplotlib inline"
   ]
  },
  {
   "cell_type": "code",
   "execution_count": 3,
   "id": "d0b080f0-1cc2-4ce0-a24e-b665a39f642f",
   "metadata": {},
   "outputs": [],
   "source": [
    "titanic_train = pd.read_csv('titanic/train.csv')\n",
    "#titanic_test = pd.read_csv('titanic/test.csv')"
   ]
  },
  {
   "cell_type": "code",
   "execution_count": 5,
   "id": "61a69d14-0469-4e05-8046-6bd6b9bfc5bd",
   "metadata": {},
   "outputs": [
    {
     "name": "stdout",
     "output_type": "stream",
     "text": [
      "<class 'pandas.core.frame.DataFrame'>\n",
      "RangeIndex: 891 entries, 0 to 890\n",
      "Data columns (total 12 columns):\n",
      " #   Column       Non-Null Count  Dtype  \n",
      "---  ------       --------------  -----  \n",
      " 0   PassengerId  891 non-null    int64  \n",
      " 1   Survived     891 non-null    int64  \n",
      " 2   Pclass       891 non-null    int64  \n",
      " 3   Name         891 non-null    object \n",
      " 4   Sex          891 non-null    object \n",
      " 5   Age          714 non-null    float64\n",
      " 6   SibSp        891 non-null    int64  \n",
      " 7   Parch        891 non-null    int64  \n",
      " 8   Ticket       891 non-null    object \n",
      " 9   Fare         891 non-null    float64\n",
      " 10  Cabin        204 non-null    object \n",
      " 11  Embarked     889 non-null    object \n",
      "dtypes: float64(2), int64(5), object(5)\n",
      "memory usage: 83.7+ KB\n"
     ]
    }
   ],
   "source": [
    "titanic_train.info()"
   ]
  },
  {
   "cell_type": "code",
   "execution_count": 7,
   "id": "4074d6dd-e020-4ac6-8db7-95ec112b7dfa",
   "metadata": {},
   "outputs": [
    {
     "data": {
      "text/plain": [
       "PassengerId      0\n",
       "Survived         0\n",
       "Pclass           0\n",
       "Name             0\n",
       "Sex              0\n",
       "Age            177\n",
       "SibSp            0\n",
       "Parch            0\n",
       "Ticket           0\n",
       "Fare             0\n",
       "Cabin          687\n",
       "Embarked         2\n",
       "dtype: int64"
      ]
     },
     "execution_count": 7,
     "metadata": {},
     "output_type": "execute_result"
    }
   ],
   "source": [
    "titanic_train.isnull().sum()"
   ]
  },
  {
   "cell_type": "code",
   "execution_count": 9,
   "id": "305479f1-fd33-4914-b206-a8f9f4f7a31e",
   "metadata": {},
   "outputs": [],
   "source": [
    "from sklearn.impute import SimpleImputer\n",
    "from sklearn.preprocessing import StandardScaler\n",
    "\n",
    "imputer = SimpleImputer(strategy='mean')\n",
    "scaler = StandardScaler()\n",
    "\n",
    "def data_processing(df):\n",
    "    # df = df.copy()\n",
    "    # retrieving numerical and columnar datatypes\n",
    "    num_cols = df.select_dtypes(['int64','float64']).columns\n",
    "    cat_cols = df.select_dtypes(['object']).columns\n",
    "    # Identifying duplicates\n",
    "    df.duplicated().sum()\n",
    "    # Drop duplicates\n",
    "    df.drop_duplicates(inplace=True)\n",
    "    # Checking missing values\n",
    "    df.isnull().sum().sum()\n",
    "    # Drop missing values in categorical columns\n",
    "    for col in cat_cols:\n",
    "        df[col] = df[col].fillna(df[col].mode()[0])\n",
    "    # Drop missing values in numerical columns\n",
    "    imputed_data = pd.DataFrame(imputer.fit_transform(df[num_cols]), columns = num_cols)\n",
    "    df[num_cols] = imputed_data\n",
    "    return df"
   ]
  },
  {
   "cell_type": "code",
   "execution_count": 11,
   "id": "7dfd58fa-be7c-47f4-8566-8ec4b536e1ae",
   "metadata": {},
   "outputs": [
    {
     "data": {
      "text/html": [
       "<div>\n",
       "<style scoped>\n",
       "    .dataframe tbody tr th:only-of-type {\n",
       "        vertical-align: middle;\n",
       "    }\n",
       "\n",
       "    .dataframe tbody tr th {\n",
       "        vertical-align: top;\n",
       "    }\n",
       "\n",
       "    .dataframe thead th {\n",
       "        text-align: right;\n",
       "    }\n",
       "</style>\n",
       "<table border=\"1\" class=\"dataframe\">\n",
       "  <thead>\n",
       "    <tr style=\"text-align: right;\">\n",
       "      <th></th>\n",
       "      <th>PassengerId</th>\n",
       "      <th>Survived</th>\n",
       "      <th>Pclass</th>\n",
       "      <th>Name</th>\n",
       "      <th>Sex</th>\n",
       "      <th>Age</th>\n",
       "      <th>SibSp</th>\n",
       "      <th>Parch</th>\n",
       "      <th>Ticket</th>\n",
       "      <th>Fare</th>\n",
       "      <th>Cabin</th>\n",
       "      <th>Embarked</th>\n",
       "    </tr>\n",
       "  </thead>\n",
       "  <tbody>\n",
       "    <tr>\n",
       "      <th>0</th>\n",
       "      <td>1.0</td>\n",
       "      <td>0.0</td>\n",
       "      <td>3.0</td>\n",
       "      <td>Braund, Mr. Owen Harris</td>\n",
       "      <td>male</td>\n",
       "      <td>22.0</td>\n",
       "      <td>1.0</td>\n",
       "      <td>0.0</td>\n",
       "      <td>A/5 21171</td>\n",
       "      <td>7.2500</td>\n",
       "      <td>B96 B98</td>\n",
       "      <td>S</td>\n",
       "    </tr>\n",
       "    <tr>\n",
       "      <th>1</th>\n",
       "      <td>2.0</td>\n",
       "      <td>1.0</td>\n",
       "      <td>1.0</td>\n",
       "      <td>Cumings, Mrs. John Bradley (Florence Briggs Th...</td>\n",
       "      <td>female</td>\n",
       "      <td>38.0</td>\n",
       "      <td>1.0</td>\n",
       "      <td>0.0</td>\n",
       "      <td>PC 17599</td>\n",
       "      <td>71.2833</td>\n",
       "      <td>C85</td>\n",
       "      <td>C</td>\n",
       "    </tr>\n",
       "    <tr>\n",
       "      <th>2</th>\n",
       "      <td>3.0</td>\n",
       "      <td>1.0</td>\n",
       "      <td>3.0</td>\n",
       "      <td>Heikkinen, Miss. Laina</td>\n",
       "      <td>female</td>\n",
       "      <td>26.0</td>\n",
       "      <td>0.0</td>\n",
       "      <td>0.0</td>\n",
       "      <td>STON/O2. 3101282</td>\n",
       "      <td>7.9250</td>\n",
       "      <td>B96 B98</td>\n",
       "      <td>S</td>\n",
       "    </tr>\n",
       "    <tr>\n",
       "      <th>3</th>\n",
       "      <td>4.0</td>\n",
       "      <td>1.0</td>\n",
       "      <td>1.0</td>\n",
       "      <td>Futrelle, Mrs. Jacques Heath (Lily May Peel)</td>\n",
       "      <td>female</td>\n",
       "      <td>35.0</td>\n",
       "      <td>1.0</td>\n",
       "      <td>0.0</td>\n",
       "      <td>113803</td>\n",
       "      <td>53.1000</td>\n",
       "      <td>C123</td>\n",
       "      <td>S</td>\n",
       "    </tr>\n",
       "    <tr>\n",
       "      <th>4</th>\n",
       "      <td>5.0</td>\n",
       "      <td>0.0</td>\n",
       "      <td>3.0</td>\n",
       "      <td>Allen, Mr. William Henry</td>\n",
       "      <td>male</td>\n",
       "      <td>35.0</td>\n",
       "      <td>0.0</td>\n",
       "      <td>0.0</td>\n",
       "      <td>373450</td>\n",
       "      <td>8.0500</td>\n",
       "      <td>B96 B98</td>\n",
       "      <td>S</td>\n",
       "    </tr>\n",
       "  </tbody>\n",
       "</table>\n",
       "</div>"
      ],
      "text/plain": [
       "   PassengerId  Survived  Pclass  \\\n",
       "0          1.0       0.0     3.0   \n",
       "1          2.0       1.0     1.0   \n",
       "2          3.0       1.0     3.0   \n",
       "3          4.0       1.0     1.0   \n",
       "4          5.0       0.0     3.0   \n",
       "\n",
       "                                                Name     Sex   Age  SibSp  \\\n",
       "0                            Braund, Mr. Owen Harris    male  22.0    1.0   \n",
       "1  Cumings, Mrs. John Bradley (Florence Briggs Th...  female  38.0    1.0   \n",
       "2                             Heikkinen, Miss. Laina  female  26.0    0.0   \n",
       "3       Futrelle, Mrs. Jacques Heath (Lily May Peel)  female  35.0    1.0   \n",
       "4                           Allen, Mr. William Henry    male  35.0    0.0   \n",
       "\n",
       "   Parch            Ticket     Fare    Cabin Embarked  \n",
       "0    0.0         A/5 21171   7.2500  B96 B98        S  \n",
       "1    0.0          PC 17599  71.2833      C85        C  \n",
       "2    0.0  STON/O2. 3101282   7.9250  B96 B98        S  \n",
       "3    0.0            113803  53.1000     C123        S  \n",
       "4    0.0            373450   8.0500  B96 B98        S  "
      ]
     },
     "execution_count": 11,
     "metadata": {},
     "output_type": "execute_result"
    }
   ],
   "source": [
    "train_processed = data_processing(titanic_train)\n",
    "train_processed.head()"
   ]
  },
  {
   "cell_type": "code",
   "execution_count": 13,
   "id": "f3efc987-14e7-4159-9322-61558b8234fa",
   "metadata": {},
   "outputs": [
    {
     "data": {
      "text/plain": [
       "0        Mr\n",
       "1       Mrs\n",
       "2      Miss\n",
       "3       Mrs\n",
       "4        Mr\n",
       "       ... \n",
       "886     Rev\n",
       "887    Miss\n",
       "888    Miss\n",
       "889      Mr\n",
       "890      Mr\n",
       "Name: Title, Length: 891, dtype: object"
      ]
     },
     "execution_count": 13,
     "metadata": {},
     "output_type": "execute_result"
    }
   ],
   "source": [
    "train_processed['Title'] = train_processed['Name'].str.split(\",\").str.get(1)\n",
    "train_processed['Title'] = train_processed['Title'].str.split(\".\").str.get(0)\n",
    "train_processed['Title'].str.strip()"
   ]
  },
  {
   "cell_type": "code",
   "execution_count": 15,
   "id": "2236605c-1908-4f8a-a8e4-bdfc796a84cd",
   "metadata": {},
   "outputs": [],
   "source": [
    "# Dropping unwanted columns\n",
    "from sklearn.preprocessing import LabelEncoder\n",
    "le = LabelEncoder()\n",
    "train_processed.drop(['Name', 'Ticket', 'Cabin', 'PassengerId'], axis=1, inplace=True, errors='ignore')\n",
    "# Encoding categorical columns\n",
    "for col in ['Sex', 'Embarked', 'Title']:\n",
    "    train_processed[col] = le.fit_transform(train_processed[col])"
   ]
  },
  {
   "cell_type": "code",
   "execution_count": 17,
   "id": "167bb964-2b06-4352-bb74-71ec08cac8b1",
   "metadata": {},
   "outputs": [],
   "source": [
    "from sklearn.preprocessing import MinMaxScaler\n",
    "minmax = MinMaxScaler()\n",
    "cols = train_processed.columns\n",
    "scaled = pd.DataFrame(minmax.fit_transform(train_processed[cols]), columns=cols)\n",
    "train_processed[cols] = scaled"
   ]
  },
  {
   "cell_type": "code",
   "execution_count": 19,
   "id": "2253394a-3922-4838-b7d4-203400eaa4e0",
   "metadata": {},
   "outputs": [
    {
     "data": {
      "text/html": [
       "<div>\n",
       "<style scoped>\n",
       "    .dataframe tbody tr th:only-of-type {\n",
       "        vertical-align: middle;\n",
       "    }\n",
       "\n",
       "    .dataframe tbody tr th {\n",
       "        vertical-align: top;\n",
       "    }\n",
       "\n",
       "    .dataframe thead th {\n",
       "        text-align: right;\n",
       "    }\n",
       "</style>\n",
       "<table border=\"1\" class=\"dataframe\">\n",
       "  <thead>\n",
       "    <tr style=\"text-align: right;\">\n",
       "      <th></th>\n",
       "      <th>Survived</th>\n",
       "      <th>Pclass</th>\n",
       "      <th>Sex</th>\n",
       "      <th>Age</th>\n",
       "      <th>SibSp</th>\n",
       "      <th>Parch</th>\n",
       "      <th>Fare</th>\n",
       "      <th>Embarked</th>\n",
       "      <th>Title</th>\n",
       "    </tr>\n",
       "  </thead>\n",
       "  <tbody>\n",
       "    <tr>\n",
       "      <th>0</th>\n",
       "      <td>0.0</td>\n",
       "      <td>1.0</td>\n",
       "      <td>1.0</td>\n",
       "      <td>0.271174</td>\n",
       "      <td>0.125</td>\n",
       "      <td>0.0</td>\n",
       "      <td>0.014151</td>\n",
       "      <td>1.0</td>\n",
       "      <td>0.6875</td>\n",
       "    </tr>\n",
       "    <tr>\n",
       "      <th>1</th>\n",
       "      <td>1.0</td>\n",
       "      <td>0.0</td>\n",
       "      <td>0.0</td>\n",
       "      <td>0.472229</td>\n",
       "      <td>0.125</td>\n",
       "      <td>0.0</td>\n",
       "      <td>0.139136</td>\n",
       "      <td>0.0</td>\n",
       "      <td>0.7500</td>\n",
       "    </tr>\n",
       "    <tr>\n",
       "      <th>2</th>\n",
       "      <td>1.0</td>\n",
       "      <td>1.0</td>\n",
       "      <td>0.0</td>\n",
       "      <td>0.321438</td>\n",
       "      <td>0.000</td>\n",
       "      <td>0.0</td>\n",
       "      <td>0.015469</td>\n",
       "      <td>1.0</td>\n",
       "      <td>0.5000</td>\n",
       "    </tr>\n",
       "    <tr>\n",
       "      <th>3</th>\n",
       "      <td>1.0</td>\n",
       "      <td>0.0</td>\n",
       "      <td>0.0</td>\n",
       "      <td>0.434531</td>\n",
       "      <td>0.125</td>\n",
       "      <td>0.0</td>\n",
       "      <td>0.103644</td>\n",
       "      <td>1.0</td>\n",
       "      <td>0.7500</td>\n",
       "    </tr>\n",
       "    <tr>\n",
       "      <th>4</th>\n",
       "      <td>0.0</td>\n",
       "      <td>1.0</td>\n",
       "      <td>1.0</td>\n",
       "      <td>0.434531</td>\n",
       "      <td>0.000</td>\n",
       "      <td>0.0</td>\n",
       "      <td>0.015713</td>\n",
       "      <td>1.0</td>\n",
       "      <td>0.6875</td>\n",
       "    </tr>\n",
       "  </tbody>\n",
       "</table>\n",
       "</div>"
      ],
      "text/plain": [
       "   Survived  Pclass  Sex       Age  SibSp  Parch      Fare  Embarked   Title\n",
       "0       0.0     1.0  1.0  0.271174  0.125    0.0  0.014151       1.0  0.6875\n",
       "1       1.0     0.0  0.0  0.472229  0.125    0.0  0.139136       0.0  0.7500\n",
       "2       1.0     1.0  0.0  0.321438  0.000    0.0  0.015469       1.0  0.5000\n",
       "3       1.0     0.0  0.0  0.434531  0.125    0.0  0.103644       1.0  0.7500\n",
       "4       0.0     1.0  1.0  0.434531  0.000    0.0  0.015713       1.0  0.6875"
      ]
     },
     "execution_count": 19,
     "metadata": {},
     "output_type": "execute_result"
    }
   ],
   "source": [
    "train_processed.head()"
   ]
  },
  {
   "cell_type": "code",
   "execution_count": 21,
   "id": "a8ee2b7f-52a7-4328-9cb1-a1ab5c6f2714",
   "metadata": {},
   "outputs": [],
   "source": [
    "x = train_processed.drop(['Survived'], axis=1)\n",
    "y = train_processed['Survived']"
   ]
  },
  {
   "cell_type": "code",
   "execution_count": 23,
   "id": "ccb25e82-1648-4c6d-bca1-929ec898eaf3",
   "metadata": {},
   "outputs": [],
   "source": [
    "from sklearn.model_selection import train_test_split\n",
    "x_train, x_test, y_train, y_test = train_test_split(x, y, test_size=0.2, stratify=y, random_state=42)"
   ]
  },
  {
   "cell_type": "code",
   "execution_count": 25,
   "id": "69c496a5-5167-4dfb-a507-7ae7cddfc9de",
   "metadata": {},
   "outputs": [],
   "source": [
    "from sklearn.metrics import accuracy_score, classification_report, confusion_matrix, precision_recall_curve"
   ]
  },
  {
   "cell_type": "markdown",
   "id": "4fc29c7e-fac8-456b-9ce5-bd992b695d29",
   "metadata": {},
   "source": [
    "## Base Model Estimators"
   ]
  },
  {
   "cell_type": "code",
   "execution_count": 27,
   "id": "aafe9f8a-dfc3-4d5b-b500-4cba124ff89a",
   "metadata": {},
   "outputs": [
    {
     "name": "stdout",
     "output_type": "stream",
     "text": [
      "Score:  0.7963483146067416\n",
      "Accuracy:  0.7877094972067039\n",
      "Classification Report: \n",
      "               precision    recall  f1-score   support\n",
      "\n",
      "         0.0       0.81      0.86      0.83       110\n",
      "         1.0       0.75      0.67      0.71        69\n",
      "\n",
      "    accuracy                           0.79       179\n",
      "   macro avg       0.78      0.77      0.77       179\n",
      "weighted avg       0.79      0.79      0.78       179\n",
      "\n",
      "Confusion matrix:  Axes(0.125,0.11;0.62x0.77)\n"
     ]
    },
    {
     "data": {
      "image/png": "[encoded data removed]",
      "text/plain": [
       "<Figure size 640x480 with 2 Axes>"
      ]
     },
     "metadata": {},
     "output_type": "display_data"
    }
   ],
   "source": [
    "# Logistic Regression\n",
    "from sklearn.linear_model import LogisticRegression\n",
    "log_reg = LogisticRegression(C=0.1)\n",
    "log_reg.fit(x_train, y_train)\n",
    "y_pred = log_reg.predict(x_test)\n",
    "print(\"Score: \", log_reg.score(x_train, y_train))\n",
    "print(\"Accuracy: \",accuracy_score(y_test, y_pred))\n",
    "print(\"Classification Report: \\n\", classification_report(y_test, y_pred))\n",
    "print(\"Confusion matrix: \", sns.heatmap(confusion_matrix(y_test, y_pred), annot=True, cmap='RdBu'))"
   ]
  },
  {
   "cell_type": "code",
   "execution_count": 45,
   "id": "13bd7d2d-d235-4dee-a65e-2ea371d19f52",
   "metadata": {},
   "outputs": [
    {
     "name": "stdout",
     "output_type": "stream",
     "text": [
      "Score:  0.9199438202247191\n",
      "Accuracy:  0.8044692737430168\n",
      "Classification Report: \n",
      "               precision    recall  f1-score   support\n",
      "\n",
      "         0.0       0.82      0.87      0.85       110\n",
      "         1.0       0.77      0.70      0.73        69\n",
      "\n",
      "    accuracy                           0.80       179\n",
      "   macro avg       0.80      0.78      0.79       179\n",
      "weighted avg       0.80      0.80      0.80       179\n",
      "\n",
      "Confusion matrix:  Axes(0.125,0.11;0.62x0.77)\n"
     ]
    },
    {
     "data": {
      "image/png": "[encoded data removed]",
      "text/plain": [
       "<Figure size 640x480 with 2 Axes>"
      ]
     },
     "metadata": {},
     "output_type": "display_data"
    }
   ],
   "source": [
    "# Decision Tree Classifier\n",
    "from sklearn.tree import DecisionTreeClassifier\n",
    "dtree = DecisionTreeClassifier(criterion='gini', max_depth=10,min_samples_split=8,random_state=42)\n",
    "dtree.fit(x_train, y_train)\n",
    "y_pred = dtree.predict(x_test)\n",
    "print(\"Score: \", dtree.score(x_train, y_train))\n",
    "print(\"Accuracy: \",accuracy_score(y_test, y_pred))\n",
    "print(\"Classification Report: \\n\", classification_report(y_test, y_pred))\n",
    "print(\"Confusion matrix: \", sns.heatmap(confusion_matrix(y_test, y_pred), annot=True, cmap='RdBu'))"
   ]
  },
  {
   "cell_type": "code",
   "execution_count": 35,
   "id": "5fed13c3-90d6-4aff-b588-713e96242521",
   "metadata": {},
   "outputs": [
    {
     "name": "stdout",
     "output_type": "stream",
     "text": [
      "Score:  0.8342696629213483\n",
      "Accuracy:  0.770949720670391\n",
      "Classification Report: \n",
      "               precision    recall  f1-score   support\n",
      "\n",
      "         0.0       0.77      0.90      0.83       110\n",
      "         1.0       0.78      0.57      0.66        69\n",
      "\n",
      "    accuracy                           0.77       179\n",
      "   macro avg       0.77      0.73      0.74       179\n",
      "weighted avg       0.77      0.77      0.76       179\n",
      "\n",
      "Confusion matrix:  Axes(0.125,0.11;0.62x0.77)\n"
     ]
    },
    {
     "data": {
      "image/png": "[encoded data removed]",
      "text/plain": [
       "<Figure size 640x480 with 2 Axes>"
      ]
     },
     "metadata": {},
     "output_type": "display_data"
    }
   ],
   "source": [
    "# K Nearest Neighbors Classifier\n",
    "from sklearn.neighbors import KNeighborsClassifier\n",
    "classifier = KNeighborsClassifier(n_neighbors=10)\n",
    "classifier.fit(x_train, y_train)\n",
    "y_pred = classifier.predict(x_test)\n",
    "print(\"Score: \", classifier.score(x_train, y_train))\n",
    "print(\"Accuracy: \",accuracy_score(y_test, y_pred))\n",
    "print(\"Classification Report: \\n\", classification_report(y_test, y_pred))\n",
    "print(\"Confusion matrix: \", sns.heatmap(confusion_matrix(y_test, y_pred), annot=True, cmap='RdBu'))"
   ]
  },
  {
   "cell_type": "code",
   "execution_count": 41,
   "id": "39dc4a14-d266-437f-84c3-a67f2f21c69b",
   "metadata": {},
   "outputs": [
    {
     "name": "stdout",
     "output_type": "stream",
     "text": [
      "Score:  0.9845505617977528\n",
      "Accuracy:  0.8212290502793296\n",
      "Classification Report: \n",
      "               precision    recall  f1-score   support\n",
      "\n",
      "         0.0       0.84      0.87      0.86       110\n",
      "         1.0       0.78      0.74      0.76        69\n",
      "\n",
      "    accuracy                           0.82       179\n",
      "   macro avg       0.81      0.81      0.81       179\n",
      "weighted avg       0.82      0.82      0.82       179\n",
      "\n",
      "Confusion matrix:  Axes(0.125,0.11;0.62x0.77)\n"
     ]
    },
    {
     "data": {
      "image/png": "[encoded data removed]",
      "text/plain": [
       "<Figure size 640x480 with 2 Axes>"
      ]
     },
     "metadata": {},
     "output_type": "display_data"
    }
   ],
   "source": [
    "# Random Forest Classifier\n",
    "from sklearn.ensemble import RandomForestClassifier\n",
    "random_clf = RandomForestClassifier(n_estimators=100, criterion = 'entropy', random_state=42)\n",
    "random_clf.fit(x_train, y_train)\n",
    "y_pred = random_clf.predict(x_test)\n",
    "print(\"Score: \", random_clf.score(x_train, y_train))\n",
    "print(\"Accuracy: \",accuracy_score(y_test, y_pred))\n",
    "print(\"Classification Report: \\n\", classification_report(y_test, y_pred))\n",
    "print(\"Confusion matrix: \", sns.heatmap(confusion_matrix(y_test, y_pred), annot=True, cmap='RdBu'))"
   ]
  },
  {
   "cell_type": "markdown",
   "id": "590143cb-f90e-4b56-abb9-5155c12c4632",
   "metadata": {},
   "source": [
    "## Voting Classifier - Hard Voting"
   ]
  },
  {
   "cell_type": "code",
   "execution_count": 47,
   "id": "023ea279-1704-442a-b68e-ef0c590121b9",
   "metadata": {},
   "outputs": [
    {
     "name": "stdout",
     "output_type": "stream",
     "text": [
      "Score:  0.8623595505617978\n",
      "Accuracy:  0.7932960893854749\n",
      "Classification Report: \n",
      "               precision    recall  f1-score   support\n",
      "\n",
      "         0.0       0.77      0.95      0.85       110\n",
      "         1.0       0.86      0.55      0.67        69\n",
      "\n",
      "    accuracy                           0.79       179\n",
      "   macro avg       0.82      0.75      0.76       179\n",
      "weighted avg       0.81      0.79      0.78       179\n",
      "\n",
      "Confusion matrix:  Axes(0.125,0.11;0.62x0.77)\n"
     ]
    },
    {
     "data": {
      "image/png": "[encoded data removed]",
      "text/plain": [
       "<Figure size 640x480 with 2 Axes>"
      ]
     },
     "metadata": {},
     "output_type": "display_data"
    }
   ],
   "source": [
    "from sklearn.ensemble import VotingClassifier\n",
    "clf1 = LogisticRegression(C=0.1)\n",
    "clf2 = DecisionTreeClassifier(criterion='gini',max_depth=5,min_samples_split=8,random_state=42)\n",
    "clf3 = KNeighborsClassifier(n_neighbors=10)\n",
    "clf4 = RandomForestClassifier(n_estimators=100, criterion = 'entropy', random_state=42)\n",
    "\n",
    "voting_hard_clf = VotingClassifier(estimators = [('log_reg', clf1), ('dtree', clf2), ('knn', clf3), ('random_clf', clf4)], voting='hard')\n",
    "voting_hard_clf.fit(x_train, y_train)\n",
    "y_predict = voting_hard_clf.predict(x_test)\n",
    "\n",
    "print(\"Score: \", voting_hard_clf.score(x_train, y_train))\n",
    "print(\"Accuracy: \", accuracy_score(y_test, y_predict))\n",
    "print(\"Classification Report: \\n\", classification_report(y_test, y_predict))\n",
    "print(\"Confusion matrix: \", sns.heatmap(confusion_matrix(y_test, y_predict), annot=True, cmap='RdBu'))"
   ]
  },
  {
   "cell_type": "markdown",
   "id": "bf98a18c-54e0-4bcd-82f2-fd23604e5b80",
   "metadata": {},
   "source": [
    "## Voting Classifier - Soft Voting"
   ]
  },
  {
   "cell_type": "code",
   "execution_count": 52,
   "id": "753f6d61-4c0b-4c35-a199-1a071ba21d36",
   "metadata": {},
   "outputs": [
    {
     "name": "stdout",
     "output_type": "stream",
     "text": [
      "Score:  0.9311797752808989\n",
      "Accuracy:  0.8156424581005587\n",
      "Classification Report: \n",
      "               precision    recall  f1-score   support\n",
      "\n",
      "         0.0       0.81      0.91      0.86       110\n",
      "         1.0       0.82      0.67      0.74        69\n",
      "\n",
      "    accuracy                           0.82       179\n",
      "   macro avg       0.82      0.79      0.80       179\n",
      "weighted avg       0.82      0.82      0.81       179\n",
      "\n",
      "Confusion matrix:  Axes(0.125,0.11;0.62x0.77)\n"
     ]
    },
    {
     "data": {
      "image/png": "[encoded data removed]",
      "text/plain": [
       "<Figure size 640x480 with 2 Axes>"
      ]
     },
     "metadata": {},
     "output_type": "display_data"
    }
   ],
   "source": [
    "voting_soft_clf = VotingClassifier(estimators = [('log_reg', clf1), ('dtree', clf2), ('knn', clf3), ('random_clf', clf4)], voting='soft', weights=[3,1,2,4])\n",
    "voting_soft_clf.fit(x_train, y_train)\n",
    "y_predict = voting_soft_clf.predict(x_test)\n",
    "print(\"Score: \", voting_soft_clf.score(x_train, y_train))\n",
    "print(\"Accuracy: \", accuracy_score(y_test, y_predict))\n",
    "print(\"Classification Report: \\n\", classification_report(y_test, y_predict))\n",
    "print(\"Confusion matrix: \", sns.heatmap(confusion_matrix(y_test, y_predict), annot=True, cmap='RdBu'))"
   ]
  },
  {
   "cell_type": "markdown",
   "id": "8f5e3317-6b70-4854-9843-b6d8ec981fd0",
   "metadata": {},
   "source": [
    "## Stacking Classifier"
   ]
  },
  {
   "cell_type": "code",
   "execution_count": 54,
   "id": "a171757b-9ec1-445f-852b-01200ad0a76c",
   "metadata": {},
   "outputs": [
    {
     "name": "stdout",
     "output_type": "stream",
     "text": [
      "Score:  0.9311797752808989\n",
      "Accuracy:  0.8044692737430168\n",
      "Classification Report: \n",
      "               precision    recall  f1-score   support\n",
      "\n",
      "         0.0       0.80      0.91      0.85       110\n",
      "         1.0       0.81      0.64      0.72        69\n",
      "\n",
      "    accuracy                           0.80       179\n",
      "   macro avg       0.81      0.77      0.78       179\n",
      "weighted avg       0.81      0.80      0.80       179\n",
      "\n",
      "Confusion matrix:  Axes(0.125,0.11;0.62x0.77)\n"
     ]
    },
    {
     "data": {
      "image/png": "[encoded data removed]",
      "text/plain": [
       "<Figure size 640x480 with 2 Axes>"
      ]
     },
     "metadata": {},
     "output_type": "display_data"
    }
   ],
   "source": [
    "from sklearn.ensemble import StackingClassifier\n",
    "stack_clf = StackingClassifier(estimators=[('dtree', clf2), ('knn', clf3), ('random_clf', clf4)], final_estimator=LogisticRegression(C=1.0), cv=8)\n",
    "\n",
    "stack_clf.fit(x_train, y_train)\n",
    "y_predict = stack_clf.predict(x_test)\n",
    "print(\"Score: \", voting_soft_clf.score(x_train, y_train))\n",
    "print(\"Accuracy: \", accuracy_score(y_test, y_predict))\n",
    "print(\"Classification Report: \\n\", classification_report(y_test, y_predict))\n",
    "print(\"Confusion matrix: \", sns.heatmap(confusion_matrix(y_test, y_predict), annot=True, cmap='RdBu'))"
   ]
  },
  {
   "cell_type": "markdown",
   "id": "007dac7b-73bb-4dce-9bec-a2a9ddce48fc",
   "metadata": {},
   "source": [
    "## Conclusion\n",
    "\n",
    "The comparision of different models for survival prediction is summarised as follows:\n",
    "\n",
    "| Classifier Name     | Accuracy | Precision | Recall |\n",
    "|------------------   |----------|---------- |--------|\n",
    "| Logistic Regression | 78.77    | 78.0      | 77.0   |\n",
    "| Decision Tree       | 80.44    | 80.0      | 78.0   |\n",
    "| K Nearest Neighbors | 77.09    | 77.0      | 73.0   |\n",
    "| Random Forest       | 82.12    | 81.0      | 81.0   |         \n",
    "| Hard Voting         | 79.32    | 82.0      | 75.0   |\n",
    "| Soft Voting         | 81.56    | 82.0      | 79.0   |\n",
    "| Stacking            | 80.44    | 81.0      | 77.0   | \n"
   ]
  },
  {
   "cell_type": "code",
   "execution_count": null,
   "id": "fbdbc4e2-faf0-40a4-9e90-102250e54a61",
   "metadata": {},
   "outputs": [],
   "source": []
  }
 ],
 "metadata": {
  "kernelspec": {
   "display_name": "Python 3 (ipykernel)",
   "language": "python",
   "name": "python3"
  },
  "language_info": {
   "codemirror_mode": {
    "name": "ipython",
    "version": 3
   },
   "file_extension": ".py",
   "mimetype": "text/x-python",
   "name": "python",
   "nbconvert_exporter": "python",
   "pygments_lexer": "ipython3",
   "version": "3.12.4"
  }
 },
 "nbformat": 4,
 "nbformat_minor": 5
}
